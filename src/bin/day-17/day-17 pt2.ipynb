{
 "cells": [
  {
   "cell_type": "code",
   "execution_count": 8,
   "id": "0bd5a7a3-276e-4a82-bc76-2171fc2ee851",
   "metadata": {},
   "outputs": [],
   "source": [
    "from copy import deepcopy"
   ]
  },
  {
   "cell_type": "code",
   "execution_count": 6,
   "id": "7be9eea7-beaa-45d5-9188-ddd6a9d64e34",
   "metadata": {},
   "outputs": [],
   "source": [
    "nums = {\n",
    "   i :{j: (i & 1 << j) >> j for j in range(3)} for i in range(8)\n",
    "}"
   ]
  },
  {
   "cell_type": "code",
   "execution_count": 7,
   "id": "b184d24f-330f-4be1-8017-107779c902fd",
   "metadata": {},
   "outputs": [
    {
     "data": {
      "text/plain": [
       "{0: {0: 0, 1: 0, 2: 0},\n",
       " 1: {0: 1, 1: 0, 2: 0},\n",
       " 2: {0: 0, 1: 1, 2: 0},\n",
       " 3: {0: 1, 1: 1, 2: 0},\n",
       " 4: {0: 0, 1: 0, 2: 1},\n",
       " 5: {0: 1, 1: 0, 2: 1},\n",
       " 6: {0: 0, 1: 1, 2: 1},\n",
       " 7: {0: 1, 1: 1, 2: 1}}"
      ]
     },
     "execution_count": 7,
     "metadata": {},
     "output_type": "execute_result"
    }
   ],
   "source": [
    "nums"
   ]
  },
  {
   "cell_type": "code",
   "execution_count": 14,
   "id": "eab1ea39-5878-441c-b06c-7f921f9fa5cd",
   "metadata": {},
   "outputs": [],
   "source": [
    "def bit_patterns() -> list:\n",
    "    valid = {}\n",
    "    for target in range(8):\n",
    "        valid[target] = []\n",
    "        for a in range(8):\n",
    "            valid_pattern = True\n",
    "            pattern = deepcopy(nums[a])\n",
    "\n",
    "            # a is a 3 bit number\n",
    "            shifted_value = a ^ 2 ^ 7 ^ target\n",
    "            shift_amount = a ^ 2\n",
    "\n",
    "            # valid if the shift amount can be combined with the \n",
    "            for j in range(3):\n",
    "                j_bit = (shifted_value & (1 << j)) >> j\n",
    "                if (j + shift_amount) in pattern and pattern[j+shift_amount] != j_bit:\n",
    "                    valid_pattern = False\n",
    "                    break\n",
    "                pattern[j + shift_amount] = j_bit\n",
    "            if not valid_pattern:\n",
    "                continue\n",
    "            valid[target].append(pattern)\n",
    "    return valid\n",
    "            \n",
    "    "
   ]
  },
  {
   "cell_type": "code",
   "execution_count": 15,
   "id": "ff7fb21d-16de-4d77-b42c-1be494fafd6a",
   "metadata": {},
   "outputs": [
    {
     "data": {
      "text/plain": [
       "{0: [{0: 1, 1: 0, 2: 0, 3: 0, 4: 0, 5: 1},\n",
       "  {0: 0, 1: 0, 2: 1, 6: 1, 7: 0, 8: 0},\n",
       "  {0: 1, 1: 0, 2: 1, 7: 0, 8: 0, 9: 0},\n",
       "  {0: 0, 1: 1, 2: 1, 4: 1, 5: 1, 6: 0},\n",
       "  {0: 1, 1: 1, 2: 1, 5: 0, 6: 1, 7: 0}],\n",
       " 1: [{0: 0, 1: 0, 2: 0, 3: 0, 4: 1},\n",
       "  {0: 1, 1: 0, 2: 0, 3: 1, 4: 0, 5: 1},\n",
       "  {0: 0, 1: 0, 2: 1, 6: 0, 7: 0, 8: 0},\n",
       "  {0: 1, 1: 0, 2: 1, 7: 1, 8: 0, 9: 0},\n",
       "  {0: 0, 1: 1, 2: 1, 4: 0, 5: 1, 6: 0},\n",
       "  {0: 1, 1: 1, 2: 1, 5: 1, 6: 1, 7: 0}],\n",
       " 2: [{0: 1, 1: 0, 2: 0, 3: 0, 4: 1, 5: 1},\n",
       "  {0: 0, 1: 0, 2: 1, 6: 1, 7: 1, 8: 0},\n",
       "  {0: 1, 1: 0, 2: 1, 7: 0, 8: 1, 9: 0},\n",
       "  {0: 0, 1: 1, 2: 1, 4: 1, 5: 0, 6: 0},\n",
       "  {0: 1, 1: 1, 2: 1, 5: 0, 6: 0, 7: 0}],\n",
       " 3: [{0: 0, 1: 0, 2: 0, 3: 1, 4: 1},\n",
       "  {0: 1, 1: 0, 2: 0, 3: 1, 4: 1, 5: 1},\n",
       "  {0: 1, 1: 1, 2: 0, 3: 1},\n",
       "  {0: 0, 1: 0, 2: 1, 6: 0, 7: 1, 8: 0},\n",
       "  {0: 1, 1: 0, 2: 1, 7: 1, 8: 1, 9: 0},\n",
       "  {0: 0, 1: 1, 2: 1, 4: 0, 5: 0, 6: 0},\n",
       "  {0: 1, 1: 1, 2: 1, 5: 1, 6: 0, 7: 0}],\n",
       " 4: [{0: 1, 1: 0, 2: 0, 3: 0, 4: 0, 5: 0},\n",
       "  {0: 0, 1: 0, 2: 1, 6: 1, 7: 0, 8: 1},\n",
       "  {0: 1, 1: 0, 2: 1, 7: 0, 8: 0, 9: 1},\n",
       "  {0: 0, 1: 1, 2: 1, 4: 1, 5: 1, 6: 1},\n",
       "  {0: 1, 1: 1, 2: 1, 5: 0, 6: 1, 7: 1}],\n",
       " 5: [{0: 0, 1: 0, 2: 0, 3: 0, 4: 0},\n",
       "  {0: 1, 1: 0, 2: 0, 3: 1, 4: 0, 5: 0},\n",
       "  {0: 0, 1: 1, 2: 0},\n",
       "  {0: 0, 1: 0, 2: 1, 6: 0, 7: 0, 8: 1},\n",
       "  {0: 1, 1: 0, 2: 1, 7: 1, 8: 0, 9: 1},\n",
       "  {0: 0, 1: 1, 2: 1, 4: 0, 5: 1, 6: 1},\n",
       "  {0: 1, 1: 1, 2: 1, 5: 1, 6: 1, 7: 1}],\n",
       " 6: [{0: 1, 1: 0, 2: 0, 3: 0, 4: 1, 5: 0},\n",
       "  {0: 0, 1: 0, 2: 1, 6: 1, 7: 1, 8: 1},\n",
       "  {0: 1, 1: 0, 2: 1, 7: 0, 8: 1, 9: 1},\n",
       "  {0: 0, 1: 1, 2: 1, 4: 1, 5: 0, 6: 1},\n",
       "  {0: 1, 1: 1, 2: 1, 5: 0, 6: 0, 7: 1}],\n",
       " 7: [{0: 0, 1: 0, 2: 0, 3: 1, 4: 0},\n",
       "  {0: 1, 1: 0, 2: 0, 3: 1, 4: 1, 5: 0},\n",
       "  {0: 1, 1: 1, 2: 0, 3: 0},\n",
       "  {0: 0, 1: 0, 2: 1, 6: 0, 7: 1, 8: 1},\n",
       "  {0: 1, 1: 0, 2: 1, 7: 1, 8: 1, 9: 1},\n",
       "  {0: 0, 1: 1, 2: 1, 4: 0, 5: 0, 6: 1},\n",
       "  {0: 1, 1: 1, 2: 1, 5: 1, 6: 0, 7: 1}]}"
      ]
     },
     "execution_count": 15,
     "metadata": {},
     "output_type": "execute_result"
    }
   ],
   "source": [
    "bit_patterns()"
   ]
  },
  {
   "cell_type": "code",
   "execution_count": 16,
   "id": "f8a7d8d4-fb89-4530-bbe1-770d74dde127",
   "metadata": {},
   "outputs": [],
   "source": [
    "sequence = [2,4,1,2,7,5,0,3,1,7,4,1,5,5,3,0]"
   ]
  },
  {
   "cell_type": "code",
   "execution_count": 19,
   "id": "58f95a65-9c2d-4aa7-a5e6-48541f4c80b3",
   "metadata": {},
   "outputs": [],
   "source": [
    "def merge(pattern: dict, sol: dict, depth):\n",
    "    new_sol = deepcopy(sol)\n",
    "    for k, v in pattern.items():\n",
    "        if k + depth in sol and sol[k + depth] != v:\n",
    "            return None\n",
    "        new_sol[k + depth] = v\n",
    "    return new_sol\n",
    "    \n",
    "\n",
    "def helper(solutions: list[dict], patterns: dict[list[dict[int, int]]]):\n",
    "    def solve_helper(seq: list[int], sol: dict, depth: int):\n",
    "        if len(seq) == 0:\n",
    "            solutions.append(sol)\n",
    "            return\n",
    "        for pattern in patterns[seq[0]]:\n",
    "            merged = merge(pattern, sol, depth)\n",
    "            if merged is not None:\n",
    "                solve_helper(seq[1:], merged, depth + 3)\n",
    "\n",
    "    return solve_helper\n",
    "\n",
    "def solve(sequence, patterns) -> list[dict]:\n",
    "    solutions = []\n",
    "    helper(solutions, patterns)(sequence, {}, 0)\n",
    "    return solutions\n",
    "    "
   ]
  },
  {
   "cell_type": "code",
   "execution_count": 21,
   "id": "8e2a8f4a-4be3-45e0-82d4-abb64ad544c9",
   "metadata": {},
   "outputs": [],
   "source": [
    "solutions = solve(sequence, bit_patterns())"
   ]
  },
  {
   "cell_type": "code",
   "execution_count": 22,
   "id": "fbc17051-3c2b-43ce-8c35-6815626fddef",
   "metadata": {},
   "outputs": [],
   "source": [
    "def parse_solution(sol: dict[int, int]) -> int:\n",
    "    return sum(v * 2 **k for k, v in sol.items())"
   ]
  },
  {
   "cell_type": "code",
   "execution_count": 26,
   "id": "f5d271b9-dc23-4d5e-9656-0b285e28d7ee",
   "metadata": {},
   "outputs": [],
   "source": [
    "sols = sorted([parse_solution(sol) for sol in solutions])"
   ]
  },
  {
   "cell_type": "code",
   "execution_count": 27,
   "id": "6dd8f4ba-2762-4d88-955e-74ef3e552236",
   "metadata": {},
   "outputs": [
    {
     "data": {
      "text/plain": [
       "'0b101011010101110100100110111110010011110000001111'"
      ]
     },
     "execution_count": 27,
     "metadata": {},
     "output_type": "execute_result"
    }
   ],
   "source": [
    "bin(sols[0])"
   ]
  },
  {
   "cell_type": "code",
   "execution_count": 28,
   "id": "aabc0b4c-3d1c-4a0b-a02d-b991fcb68597",
   "metadata": {},
   "outputs": [
    {
     "data": {
      "text/plain": [
       "190615597431823"
      ]
     },
     "execution_count": 28,
     "metadata": {},
     "output_type": "execute_result"
    }
   ],
   "source": [
    "sols[0]"
   ]
  },
  {
   "cell_type": "code",
   "execution_count": null,
   "id": "40e106d0-5dd0-4da4-aad4-6029c38a9acb",
   "metadata": {},
   "outputs": [],
   "source": []
  }
 ],
 "metadata": {
  "kernelspec": {
   "display_name": "Python 3 (ipykernel)",
   "language": "python",
   "name": "python3"
  },
  "language_info": {
   "codemirror_mode": {
    "name": "ipython",
    "version": 3
   },
   "file_extension": ".py",
   "mimetype": "text/x-python",
   "name": "python",
   "nbconvert_exporter": "python",
   "pygments_lexer": "ipython3",
   "version": "3.11.9"
  }
 },
 "nbformat": 4,
 "nbformat_minor": 5
}
